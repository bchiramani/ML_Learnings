{
  "nbformat": 4,
  "nbformat_minor": 0,
  "metadata": {
    "colab": {
      "provenance": [],
      "authorship_tag": "ABX9TyNQljHg/sncaCACWJS5iOzk",
      "include_colab_link": true
    },
    "kernelspec": {
      "name": "python3",
      "display_name": "Python 3"
    },
    "language_info": {
      "name": "python"
    }
  },
  "cells": [
    {
      "cell_type": "markdown",
      "metadata": {
        "id": "view-in-github",
        "colab_type": "text"
      },
      "source": [
        "<a href=\"https://colab.research.google.com/github/bchiramani/ML_Learnings/blob/main/LinearRegression.ipynb\" target=\"_parent\"><img src=\"https://colab.research.google.com/assets/colab-badge.svg\" alt=\"Open In Colab\"/></a>"
      ]
    },
    {
      "cell_type": "markdown",
      "source": [
        "# Linear regression"
      ],
      "metadata": {
        "id": "jwwHy7GxuYiT"
      }
    },
    {
      "cell_type": "code",
      "source": [
        "import numpy as np\n",
        "from sklearn.datasets import make_regression \n",
        "import matplotlib.pyplot as plt"
      ],
      "metadata": {
        "id": "_0bVF4hjjf4s"
      },
      "execution_count": 275,
      "outputs": []
    },
    {
      "cell_type": "markdown",
      "source": [
        "# Generate Data"
      ],
      "metadata": {
        "id": "iGY7OTBdo7mJ"
      }
    },
    {
      "cell_type": "code",
      "source": [
        "def generate_data():\n",
        "  x , y = make_regression( n_samples = 100 , n_features = 1 , noise = 5)\n",
        "  y = y.reshape( 100 , 1 )\n",
        "  X_train = np.hstack(( x,np.ones(x.shape) ))\n",
        "  y_pred= model(X_train, theta)\n",
        "  return x,y, X_train , y_pred"
      ],
      "metadata": {
        "id": "djdnH449ou3O"
      },
      "execution_count": 276,
      "outputs": []
    },
    {
      "cell_type": "markdown",
      "source": [
        "# Define the model"
      ],
      "metadata": {
        "id": "MEXPw278o9-3"
      }
    },
    {
      "cell_type": "code",
      "source": [
        "def model(  X_train , theta ):\n",
        "  return X_train.dot(theta)"
      ],
      "metadata": {
        "id": "cc6nyzFwkZja"
      },
      "execution_count": 277,
      "outputs": []
    },
    {
      "cell_type": "markdown",
      "source": [
        "# Cost Function"
      ],
      "metadata": {
        "id": "K9hCTOUemdIh"
      }
    },
    {
      "cell_type": "code",
      "source": [
        "def cost_function(X_train,y,theta):\n",
        "  m = len(y)\n",
        "  return 1/(2*m) * np.sum((model(X_train,theta)-y)**2)"
      ],
      "metadata": {
        "id": "0ImpYlCPk-Vt"
      },
      "execution_count": 285,
      "outputs": []
    },
    {
      "cell_type": "markdown",
      "source": [
        "# Gradient Descent"
      ],
      "metadata": {
        "id": "YUPtr1HWpP6R"
      }
    },
    {
      "cell_type": "code",
      "source": [
        "def gradient(X_train, y, theta):\n",
        "  m=len(y)\n",
        "  return (1/m)*(X_train.T.dot(model( X_train , theta)-y))"
      ],
      "metadata": {
        "id": "6AgZ8aTmmzBn"
      },
      "execution_count": 286,
      "outputs": []
    },
    {
      "cell_type": "code",
      "source": [
        "def gradient_descent(X_train,y,theta,learning_rate,n_iterations):\n",
        "  cost_history = np.zeros(n_iterations)\n",
        "  for i in range(0,n_iterations):\n",
        "    theta -= learning_rate * gradient (X_train,y,theta)\n",
        "    cost_history[i] = cost_function(X_train,y,theta)\n",
        "  return theta ,cost_history"
      ],
      "metadata": {
        "id": "08yDkfPnoUXu"
      },
      "execution_count": 287,
      "outputs": []
    },
    {
      "cell_type": "markdown",
      "source": [
        "## MAIN"
      ],
      "metadata": {
        "id": "kF_q-qR6pidF"
      }
    },
    {
      "cell_type": "code",
      "source": [
        "theta = np.random.randn( 2 , 1 )\n",
        "x, y, X_train , y_pred = generate_data()\n",
        "\n",
        "# Plot the data\n",
        "print(\"generated data\")\n",
        "plt.scatter(x,y)\n",
        "plt.plot( x , y_pred , c = 'r' )"
      ],
      "metadata": {
        "colab": {
          "base_uri": "https://localhost:8080/",
          "height": 302
        },
        "id": "g9rMcmBLsW4J",
        "outputId": "fe758bd3-ef9f-4752-a667-7cbff5ccef4e"
      },
      "execution_count": 288,
      "outputs": [
        {
          "output_type": "stream",
          "name": "stdout",
          "text": [
            "generated data\n"
          ]
        },
        {
          "output_type": "execute_result",
          "data": {
            "text/plain": [
              "[<matplotlib.lines.Line2D at 0x7f491580ff70>]"
            ]
          },
          "metadata": {},
          "execution_count": 288
        },
        {
          "output_type": "display_data",
          "data": {
            "text/plain": [
              "<Figure size 432x288 with 1 Axes>"
            ],
            "image/png": "[encoded data removed]"
          },
          "metadata": {
            "needs_background": "light"
          }
        }
      ]
    },
    {
      "cell_type": "code",
      "source": [
        "# hyper parameters definition\n",
        "learning_rate= 0.01\n",
        "n_iterations = 1000"
      ],
      "metadata": {
        "id": "kH4v5DGGkQzx"
      },
      "execution_count": 289,
      "outputs": []
    },
    {
      "cell_type": "code",
      "source": [
        "theta, cost_history = gradient_descent(X_train,y,theta,learning_rate,n_iterations)\n",
        "y_pred = model(  X_train , theta )\n",
        "plt.plot(range(n_iterations), cost_history)"
      ],
      "metadata": {
        "colab": {
          "base_uri": "https://localhost:8080/",
          "height": 282
        },
        "id": "8hGUEWFPs_lj",
        "outputId": "006b13ed-3330-47a2-cdac-f6be724b5758"
      },
      "execution_count": 290,
      "outputs": [
        {
          "output_type": "execute_result",
          "data": {
            "text/plain": [
              "[<matplotlib.lines.Line2D at 0x7f49152a3820>]"
            ]
          },
          "metadata": {},
          "execution_count": 290
        },
        {
          "output_type": "display_data",
          "data": {
            "text/plain": [
              "<Figure size 432x288 with 1 Axes>"
            ],
            "image/png": "[encoded data removed]"
          },
          "metadata": {
            "needs_background": "light"
          }
        }
      ]
    },
    {
      "cell_type": "code",
      "source": [
        "#Plot the predictions\n",
        "print(\"generated data\")\n",
        "plt.scatter(x,y)\n",
        "plt.plot( x , y_pred , c = 'r' )"
      ],
      "metadata": {
        "colab": {
          "base_uri": "https://localhost:8080/",
          "height": 300
        },
        "id": "ONh6F0JKsZ7q",
        "outputId": "e5f8f38e-a22b-42be-ed6d-c4c426fb10a1"
      },
      "execution_count": 291,
      "outputs": [
        {
          "output_type": "stream",
          "name": "stdout",
          "text": [
            "generated data\n"
          ]
        },
        {
          "output_type": "execute_result",
          "data": {
            "text/plain": [
              "[<matplotlib.lines.Line2D at 0x7f49151f6640>]"
            ]
          },
          "metadata": {},
          "execution_count": 291
        },
        {
          "output_type": "display_data",
          "data": {
            "text/plain": [
              "<Figure size 432x288 with 1 Axes>"
            ],
            "image/png": "[encoded data removed]"
          },
          "metadata": {
            "needs_background": "light"
          }
        }
      ]
    },
    {
      "cell_type": "code",
      "source": [],
      "metadata": {
        "id": "-jCrhH0XqCB9"
      },
      "execution_count": 291,
      "outputs": []
    }
  ]
}